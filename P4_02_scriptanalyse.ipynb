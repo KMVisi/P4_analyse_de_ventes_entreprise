{
 "cells": [
  {
   "cell_type": "markdown",
   "id": "269fae3b",
   "metadata": {},
   "source": [
    "## Analyse de données"
   ]
  },
  {
   "cell_type": "code",
   "execution_count": 1,
   "id": "86e08cfb",
   "metadata": {},
   "outputs": [],
   "source": [
    "import pandas as pd\n",
    "import numpy as np\n",
    "import matplotlib.pyplot as plt\n",
    "import seaborn as sns\n",
    "import scipy.stats as st\n",
    "import statsmodels.api as sm\n",
    "import datetime as dt"
   ]
  },
  {
   "cell_type": "code",
   "execution_count": 2,
   "id": "cf170c98",
   "metadata": {},
   "outputs": [],
   "source": [
    "import os\n",
    "os.chdir('/home/kipengui/openclassrooms_data_analyst/projet_4')"
   ]
  },
  {
   "cell_type": "code",
   "execution_count": 3,
   "id": "429d1265",
   "metadata": {
    "scrolled": false
   },
   "outputs": [],
   "source": [
    "#import du fichier csv après nettoyage de données\n",
    "data = pd.read_csv('dataset_P4/data_p4_clean.csv')"
   ]
  },
  {
   "cell_type": "code",
   "execution_count": 4,
   "id": "fd2d3d4f",
   "metadata": {},
   "outputs": [],
   "source": [
    "# on change le format object de la colonne 'date' pour le format datetime\n",
    "data['date'] = pd.to_datetime(data['date'], format='%Y-%m-%d', errors= 'coerce')\n",
    "\n",
    "# on ajoute une colonne pour avoir la date au format jj-mm-aaaa\n",
    "data['date_2'] = pd.to_datetime(data['date'].dt.strftime('%Y%m%d'), errors= 'coerce')\n",
    "\n",
    "# création de la colonne 'mois' pour pouvoir créer des graphiques périodiquement mensuels\n",
    "data['mois'] = data['date'].apply(lambda x: x.strftime('%b %Y'))\n",
    "\n",
    "# création d'une colonne précisant l'âge des clients\n",
    "data['age'] = 2022- data['birth']\n",
    "\n",
    "# création de tranches d'âges\n",
    "cut_bins = [17, 29, 45, 59, 99]\n",
    "cut_labels = ['18-29', '30-45', '46-59', '60+']\n",
    "data['tranche'] = pd.cut(data['age'], bins=cut_bins, labels=cut_labels)"
   ]
  },
  {
   "cell_type": "code",
   "execution_count": 5,
   "id": "08f97b83",
   "metadata": {},
   "outputs": [
    {
     "data": {
      "text/html": [
       "<div>\n",
       "<style scoped>\n",
       "    .dataframe tbody tr th:only-of-type {\n",
       "        vertical-align: middle;\n",
       "    }\n",
       "\n",
       "    .dataframe tbody tr th {\n",
       "        vertical-align: top;\n",
       "    }\n",
       "\n",
       "    .dataframe thead th {\n",
       "        text-align: right;\n",
       "    }\n",
       "</style>\n",
       "<table border=\"1\" class=\"dataframe\">\n",
       "  <thead>\n",
       "    <tr style=\"text-align: right;\">\n",
       "      <th></th>\n",
       "      <th>client_id</th>\n",
       "      <th>ca_par_client</th>\n",
       "      <th>cumul_%</th>\n",
       "    </tr>\n",
       "  </thead>\n",
       "  <tbody>\n",
       "    <tr>\n",
       "      <th>677</th>\n",
       "      <td>c_1609</td>\n",
       "      <td>162007.340000</td>\n",
       "      <td>2.794350</td>\n",
       "    </tr>\n",
       "    <tr>\n",
       "      <th>4388</th>\n",
       "      <td>c_4958</td>\n",
       "      <td>144257.210000</td>\n",
       "      <td>5.282541</td>\n",
       "    </tr>\n",
       "    <tr>\n",
       "      <th>6337</th>\n",
       "      <td>c_6714</td>\n",
       "      <td>73218.633656</td>\n",
       "      <td>6.545438</td>\n",
       "    </tr>\n",
       "    <tr>\n",
       "      <th>2724</th>\n",
       "      <td>c_3454</td>\n",
       "      <td>54464.213656</td>\n",
       "      <td>7.484853</td>\n",
       "    </tr>\n",
       "    <tr>\n",
       "      <th>7715</th>\n",
       "      <td>c_7959</td>\n",
       "      <td>2564.250000</td>\n",
       "      <td>7.529082</td>\n",
       "    </tr>\n",
       "  </tbody>\n",
       "</table>\n",
       "</div>"
      ],
      "text/plain": [
       "     client_id  ca_par_client   cumul_%\n",
       "677     c_1609  162007.340000  2.794350\n",
       "4388    c_4958  144257.210000  5.282541\n",
       "6337    c_6714   73218.633656  6.545438\n",
       "2724    c_3454   54464.213656  7.484853\n",
       "7715    c_7959    2564.250000  7.529082"
      ]
     },
     "execution_count": 5,
     "metadata": {},
     "output_type": "execute_result"
    }
   ],
   "source": [
    "# classement des clients dans l'ordre décroissant de leur achat \n",
    "best_customers = data.groupby(['client_id']).sum().reset_index()[['client_id','price']].sort_values('price', ascending=False)\n",
    "best_customers.rename(columns= {'price' : 'ca_par_client'}, inplace=True)\n",
    "\n",
    "# ajout d'une colonne représentant les pourcentages cumulés\n",
    "best_customers['cumul_%'] = 100*(best_customers['ca_par_client'].cumsum() / best_customers['ca_par_client'].sum())\n",
    "best_customers.head()"
   ]
  },
  {
   "cell_type": "code",
   "execution_count": 6,
   "id": "f5ef2848",
   "metadata": {},
   "outputs": [
    {
     "data": {
      "text/html": [
       "<div>\n",
       "<style scoped>\n",
       "    .dataframe tbody tr th:only-of-type {\n",
       "        vertical-align: middle;\n",
       "    }\n",
       "\n",
       "    .dataframe tbody tr th {\n",
       "        vertical-align: top;\n",
       "    }\n",
       "\n",
       "    .dataframe thead th {\n",
       "        text-align: right;\n",
       "    }\n",
       "</style>\n",
       "<table border=\"1\" class=\"dataframe\">\n",
       "  <thead>\n",
       "    <tr style=\"text-align: right;\">\n",
       "      <th></th>\n",
       "      <th>client_id</th>\n",
       "      <th>ca_par_client</th>\n",
       "      <th>cumul_%</th>\n",
       "      <th>type</th>\n",
       "    </tr>\n",
       "  </thead>\n",
       "  <tbody>\n",
       "    <tr>\n",
       "      <th>677</th>\n",
       "      <td>c_1609</td>\n",
       "      <td>162007.340000</td>\n",
       "      <td>2.794350</td>\n",
       "      <td>professionnel</td>\n",
       "    </tr>\n",
       "    <tr>\n",
       "      <th>4388</th>\n",
       "      <td>c_4958</td>\n",
       "      <td>144257.210000</td>\n",
       "      <td>5.282541</td>\n",
       "      <td>professionnel</td>\n",
       "    </tr>\n",
       "    <tr>\n",
       "      <th>6337</th>\n",
       "      <td>c_6714</td>\n",
       "      <td>73218.633656</td>\n",
       "      <td>6.545438</td>\n",
       "      <td>professionnel</td>\n",
       "    </tr>\n",
       "    <tr>\n",
       "      <th>2724</th>\n",
       "      <td>c_3454</td>\n",
       "      <td>54464.213656</td>\n",
       "      <td>7.484853</td>\n",
       "      <td>professionnel</td>\n",
       "    </tr>\n",
       "    <tr>\n",
       "      <th>7715</th>\n",
       "      <td>c_7959</td>\n",
       "      <td>2564.250000</td>\n",
       "      <td>7.529082</td>\n",
       "      <td>particulier</td>\n",
       "    </tr>\n",
       "  </tbody>\n",
       "</table>\n",
       "</div>"
      ],
      "text/plain": [
       "     client_id  ca_par_client   cumul_%           type\n",
       "677     c_1609  162007.340000  2.794350  professionnel\n",
       "4388    c_4958  144257.210000  5.282541  professionnel\n",
       "6337    c_6714   73218.633656  6.545438  professionnel\n",
       "2724    c_3454   54464.213656  7.484853  professionnel\n",
       "7715    c_7959    2564.250000  7.529082    particulier"
      ]
     },
     "execution_count": 6,
     "metadata": {},
     "output_type": "execute_result"
    }
   ],
   "source": [
    "# la colonne type distingue les clients professionnels des clients particuliers\n",
    "best_customers['type'] = ['professionnel' if s >= 5000 else 'particulier' for s in best_customers['ca_par_client']]\n",
    "best_customers.head()"
   ]
  },
  {
   "cell_type": "code",
   "execution_count": 7,
   "id": "b60a4b02",
   "metadata": {},
   "outputs": [
    {
     "data": {
      "image/png": "[encoded data removed]",
      "text/plain": [
       "<Figure size 1080x720 with 1 Axes>"
      ]
     },
     "metadata": {},
     "output_type": "display_data"
    }
   ],
   "source": [
    "# réalisation d'un graphique circulaire\n",
    "best_customers[['type', 'ca_par_client']].groupby(['type']).sum().plot(kind='pie', explode=(0.05, 0), subplots=True, figsize=(15,10), autopct='%1.1f%%')\n",
    "plt.legend()\n",
    "plt.title('Pourcentage de clients professionnels')\n",
    "plt.savefig(r'F:\\dataAnalyst\\Documentation projet\\graphs livrable p4\\clients_pro.jpg')"
   ]
  },
  {
   "cell_type": "code",
   "execution_count": 8,
   "id": "95d4b35f",
   "metadata": {},
   "outputs": [
    {
     "data": {
      "image/png": "[encoded data removed]",
      "text/plain": [
       "<Figure size 576x576 with 1 Axes>"
      ]
     },
     "metadata": {
      "needs_background": "light"
     },
     "output_type": "display_data"
    }
   ],
   "source": [
    "# réalisation d'un box-plot\n",
    "plt.figure(figsize = (8,8))\n",
    "axe = sns.boxplot(x= 'categ', y= 'price', data= data, showfliers=False)\n",
    "plt.title('prix de vente selon les catégories')\n",
    "plt.savefig(r'F:\\dataAnalyst\\Documentation projet\\graphs livrable p4\\prix_vente_categories.jpg')\n",
    "plt.show()"
   ]
  },
  {
   "cell_type": "code",
   "execution_count": 9,
   "id": "ed448833",
   "metadata": {},
   "outputs": [
    {
     "data": {
      "image/png": "[encoded data removed]",
      "text/plain": [
       "<Figure size 720x504 with 1 Axes>"
      ]
     },
     "metadata": {
      "needs_background": "light"
     },
     "output_type": "display_data"
    }
   ],
   "source": [
    "# graphique à barre représentant les modalités des âges\n",
    "plt.figure(figsize= (10, 7))\n",
    "data['age'].hist(alpha = 1, density= True, bins= 75)\n",
    "plt.title('modalités des âges')\n",
    "plt.xlabel('age')\n",
    "plt.ylabel('frequence')\n",
    "plt.savefig(r'F:\\dataAnalyst\\Documentation projet\\graphs livrable p4\\modalites_ages.jpg')\n",
    "plt.show()"
   ]
  },
  {
   "cell_type": "code",
   "execution_count": 10,
   "id": "4b813cd5",
   "metadata": {},
   "outputs": [
    {
     "data": {
      "text/html": [
       "<div>\n",
       "<style scoped>\n",
       "    .dataframe tbody tr th:only-of-type {\n",
       "        vertical-align: middle;\n",
       "    }\n",
       "\n",
       "    .dataframe tbody tr th {\n",
       "        vertical-align: top;\n",
       "    }\n",
       "\n",
       "    .dataframe thead th {\n",
       "        text-align: right;\n",
       "    }\n",
       "</style>\n",
       "<table border=\"1\" class=\"dataframe\">\n",
       "  <thead>\n",
       "    <tr style=\"text-align: right;\">\n",
       "      <th></th>\n",
       "      <th>categ</th>\n",
       "      <th>n</th>\n",
       "      <th>f</th>\n",
       "    </tr>\n",
       "  </thead>\n",
       "  <tbody>\n",
       "    <tr>\n",
       "      <th>0</th>\n",
       "      <td>0.0</td>\n",
       "      <td>209529</td>\n",
       "      <td>0.622087</td>\n",
       "    </tr>\n",
       "    <tr>\n",
       "      <th>1</th>\n",
       "      <td>1.0</td>\n",
       "      <td>109735</td>\n",
       "      <td>0.325801</td>\n",
       "    </tr>\n",
       "    <tr>\n",
       "      <th>2</th>\n",
       "      <td>2.0</td>\n",
       "      <td>17552</td>\n",
       "      <td>0.052112</td>\n",
       "    </tr>\n",
       "  </tbody>\n",
       "</table>\n",
       "</div>"
      ],
      "text/plain": [
       "   categ       n         f\n",
       "0    0.0  209529  0.622087\n",
       "1    1.0  109735  0.325801\n",
       "2    2.0   17552  0.052112"
      ]
     },
     "execution_count": 10,
     "metadata": {},
     "output_type": "execute_result"
    }
   ],
   "source": [
    "effectif = data['categ'].value_counts()\n",
    "modalites = effectif.index\n",
    "table = pd.DataFrame(modalites, columns= ['categ'])\n",
    "table['n']= effectif.values\n",
    "table['f']= table['n'] / len(data)\n",
    "table"
   ]
  },
  {
   "cell_type": "code",
   "execution_count": 11,
   "id": "c7eb25d3",
   "metadata": {},
   "outputs": [
    {
     "data": {
      "image/png": "[encoded data removed]",
      "text/plain": [
       "<Figure size 432x288 with 1 Axes>"
      ]
     },
     "metadata": {},
     "output_type": "display_data"
    }
   ],
   "source": [
    "labels = 'catégorie 0', 'catégorie 1','catégorie 2'\n",
    "sizes = table['f']\n",
    "explode = (0.05, 0, 0)\n",
    "fig1, ax1 = plt.subplots()\n",
    "ax1.pie(sizes, explode=explode, labels=labels, autopct='%1.1f%%', shadow=True, startangle= 90)\n",
    "ax1.axis('equal')\n",
    "plt.savefig(r'F:\\dataAnalyst\\Documentation projet\\graphs livrable p4\\poids_categ.jpg')"
   ]
  },
  {
   "cell_type": "code",
   "execution_count": 12,
   "id": "693bad38",
   "metadata": {},
   "outputs": [
    {
     "data": {
      "text/html": [
       "<div>\n",
       "<style scoped>\n",
       "    .dataframe tbody tr th:only-of-type {\n",
       "        vertical-align: middle;\n",
       "    }\n",
       "\n",
       "    .dataframe tbody tr th {\n",
       "        vertical-align: top;\n",
       "    }\n",
       "\n",
       "    .dataframe thead th {\n",
       "        text-align: right;\n",
       "    }\n",
       "</style>\n",
       "<table border=\"1\" class=\"dataframe\">\n",
       "  <thead>\n",
       "    <tr style=\"text-align: right;\">\n",
       "      <th></th>\n",
       "      <th>date</th>\n",
       "      <th>ca_mois</th>\n",
       "    </tr>\n",
       "  </thead>\n",
       "  <tbody>\n",
       "    <tr>\n",
       "      <th>0</th>\n",
       "      <td>2021-03-31</td>\n",
       "      <td>479407.851454</td>\n",
       "    </tr>\n",
       "    <tr>\n",
       "      <th>1</th>\n",
       "      <td>2021-04-30</td>\n",
       "      <td>473129.775595</td>\n",
       "    </tr>\n",
       "    <tr>\n",
       "      <th>2</th>\n",
       "      <td>2021-05-31</td>\n",
       "      <td>489453.124626</td>\n",
       "    </tr>\n",
       "    <tr>\n",
       "      <th>3</th>\n",
       "      <td>2021-06-30</td>\n",
       "      <td>481332.467798</td>\n",
       "    </tr>\n",
       "    <tr>\n",
       "      <th>4</th>\n",
       "      <td>2021-07-31</td>\n",
       "      <td>480941.247313</td>\n",
       "    </tr>\n",
       "    <tr>\n",
       "      <th>5</th>\n",
       "      <td>2021-08-31</td>\n",
       "      <td>479401.011454</td>\n",
       "    </tr>\n",
       "    <tr>\n",
       "      <th>6</th>\n",
       "      <td>2021-09-30</td>\n",
       "      <td>502899.041939</td>\n",
       "    </tr>\n",
       "    <tr>\n",
       "      <th>7</th>\n",
       "      <td>2021-10-31</td>\n",
       "      <td>319234.487798</td>\n",
       "    </tr>\n",
       "    <tr>\n",
       "      <th>8</th>\n",
       "      <td>2021-11-30</td>\n",
       "      <td>512996.638282</td>\n",
       "    </tr>\n",
       "    <tr>\n",
       "      <th>9</th>\n",
       "      <td>2021-12-31</td>\n",
       "      <td>523012.207798</td>\n",
       "    </tr>\n",
       "    <tr>\n",
       "      <th>10</th>\n",
       "      <td>2022-01-31</td>\n",
       "      <td>523008.544141</td>\n",
       "    </tr>\n",
       "    <tr>\n",
       "      <th>11</th>\n",
       "      <td>2022-02-28</td>\n",
       "      <td>532857.995111</td>\n",
       "    </tr>\n",
       "  </tbody>\n",
       "</table>\n",
       "</div>"
      ],
      "text/plain": [
       "         date        ca_mois\n",
       "0  2021-03-31  479407.851454\n",
       "1  2021-04-30  473129.775595\n",
       "2  2021-05-31  489453.124626\n",
       "3  2021-06-30  481332.467798\n",
       "4  2021-07-31  480941.247313\n",
       "5  2021-08-31  479401.011454\n",
       "6  2021-09-30  502899.041939\n",
       "7  2021-10-31  319234.487798\n",
       "8  2021-11-30  512996.638282\n",
       "9  2021-12-31  523012.207798\n",
       "10 2022-01-31  523008.544141\n",
       "11 2022-02-28  532857.995111"
      ]
     },
     "execution_count": 12,
     "metadata": {},
     "output_type": "execute_result"
    }
   ],
   "source": [
    "ca_mensuel = data.groupby(pd.Grouper(key= 'date', freq= 'M')).sum()\n",
    "ca_mensuel = ca_mensuel.rename(columns={'price' : 'ca_mois'}).reset_index()\n",
    "ca_mensuel = ca_mensuel[['date', 'ca_mois']]\n",
    "ca_mensuel"
   ]
  },
  {
   "cell_type": "code",
   "execution_count": 13,
   "id": "e39f9718",
   "metadata": {},
   "outputs": [
    {
     "data": {
      "text/plain": [
       "<Figure size 720x504 with 0 Axes>"
      ]
     },
     "metadata": {},
     "output_type": "display_data"
    },
    {
     "data": {
      "image/png": "[encoded data removed]",
      "text/plain": [
       "<Figure size 432x288 with 1 Axes>"
      ]
     },
     "metadata": {
      "needs_background": "light"
     },
     "output_type": "display_data"
    }
   ],
   "source": [
    "plt.figure(figsize= (10, 7))\n",
    "ca_mensuel.plot(x= 'date', y= 'ca_mois')\n",
    "plt.title('CA mensuel')\n",
    "plt.xlabel('Mois')\n",
    "plt.ylabel('CA')\n",
    "plt.savefig(r'F:\\dataAnalyst\\Documentation projet\\graphs livrable p4\\ca_mensuel.jpg')\n",
    "plt.show()"
   ]
  },
  {
   "cell_type": "markdown",
   "id": "c5d87c38",
   "metadata": {},
   "source": [
    "### Mesures de tendance centrale et de dispersion"
   ]
  },
  {
   "cell_type": "code",
   "execution_count": 14,
   "id": "b6319f47",
   "metadata": {},
   "outputs": [
    {
     "data": {
      "text/plain": [
       "17.21317987664951"
      ]
     },
     "execution_count": 14,
     "metadata": {},
     "output_type": "execute_result"
    }
   ],
   "source": [
    "# calcul de la moyenne des prix des produits vendus\n",
    "data['price'].mean()"
   ]
  },
  {
   "cell_type": "code",
   "execution_count": 15,
   "id": "e28bbab0",
   "metadata": {},
   "outputs": [
    {
     "data": {
      "text/plain": [
       "13.9"
      ]
     },
     "execution_count": 15,
     "metadata": {},
     "output_type": "execute_result"
    }
   ],
   "source": [
    "## calcul de la médiane des prix des produits vendus\n",
    "data['price'].median()"
   ]
  },
  {
   "cell_type": "code",
   "execution_count": 16,
   "id": "f60ade53",
   "metadata": {},
   "outputs": [
    {
     "data": {
      "text/plain": [
       "0    0.0\n",
       "dtype: float64"
      ]
     },
     "execution_count": 16,
     "metadata": {},
     "output_type": "execute_result"
    }
   ],
   "source": [
    "# calcul du mode des catégories\n",
    "data['categ'].mode()"
   ]
  },
  {
   "cell_type": "code",
   "execution_count": 17,
   "id": "2559a82c",
   "metadata": {},
   "outputs": [
    {
     "data": {
      "text/plain": [
       "318.73"
      ]
     },
     "execution_count": 17,
     "metadata": {},
     "output_type": "execute_result"
    }
   ],
   "source": [
    "# calcul de la variance empirique des prix\n",
    "round(data['price'].var(ddof=0), 2)"
   ]
  },
  {
   "cell_type": "code",
   "execution_count": 18,
   "id": "d7433603",
   "metadata": {},
   "outputs": [
    {
     "data": {
      "text/plain": [
       "17.85"
      ]
     },
     "execution_count": 18,
     "metadata": {},
     "output_type": "execute_result"
    }
   ],
   "source": [
    "# calcul de l'écart type empirique des prix\n",
    "round(data['price'].std(ddof=0), 2)"
   ]
  },
  {
   "cell_type": "markdown",
   "id": "958648a3",
   "metadata": {},
   "source": [
    "### Mesures de concentration"
   ]
  },
  {
   "cell_type": "code",
   "execution_count": 19,
   "id": "b74b2e59",
   "metadata": {},
   "outputs": [
    {
     "data": {
      "image/png": "[encoded data removed]",
      "text/plain": [
       "<Figure size 720x720 with 1 Axes>"
      ]
     },
     "metadata": {
      "needs_background": "light"
     },
     "output_type": "display_data"
    },
    {
     "name": "stdout",
     "output_type": "stream",
     "text": [
      "la valeur de l'indice de Gini est: 0.39\n"
     ]
    }
   ],
   "source": [
    "# courbe de Lorenz\n",
    "prix = data['price'].values\n",
    "\n",
    "lorenz = np.cumsum(np.sort(prix)) / prix.sum()\n",
    "lorenz = np.append([0], lorenz)\n",
    "\n",
    "plt.figure(figsize=(10,10))\n",
    "plt.plot(np.linspace(0, 1, len(lorenz)), lorenz, drawstyle = 'steps-post')\n",
    "\n",
    "plt.gca().set_aspect('equal', adjustable = 'box')\n",
    "labels =['Courbe de concentration', 'Bissectrice']\n",
    "\n",
    "x = [0, 1]\n",
    "y = [0, 1]\n",
    "\n",
    "plt.plot(x, y, 'red')\n",
    "plt.ylabel('part du CA')\n",
    "plt.xlabel('part des prix des produits')\n",
    "\n",
    "plt.ylim(0, 1)\n",
    "plt.xlim(0, 1)\n",
    "\n",
    "plt.title('Courbe de Lorenz des prix')\n",
    "\n",
    "plt.plot(0.5, 0.25, 'o', color= 'black')\n",
    "plt.text(0.55, 0.2 , '50% des prix produits les moins chers\\nreprésentent 25% du chiffre d\\'affaires', fontsize = '12')\n",
    "\n",
    "plt.savefig(r'F:\\dataAnalyst\\Documentation projet\\graphs livrable p4\\courbe_de_Lorenz_price.jpg')\n",
    "plt.show()\n",
    "\n",
    "surface = lorenz[:-1].sum() / len(lorenz)\n",
    "\n",
    "S = 0.5 - surface\n",
    "gini = round(2*S, 2)\n",
    "print('la valeur de l\\'indice de Gini est:', gini)"
   ]
  },
  {
   "cell_type": "code",
   "execution_count": 20,
   "id": "16d9e0e8",
   "metadata": {},
   "outputs": [
    {
     "data": {
      "text/html": [
       "<div>\n",
       "<style scoped>\n",
       "    .dataframe tbody tr th:only-of-type {\n",
       "        vertical-align: middle;\n",
       "    }\n",
       "\n",
       "    .dataframe tbody tr th {\n",
       "        vertical-align: top;\n",
       "    }\n",
       "\n",
       "    .dataframe thead th {\n",
       "        text-align: right;\n",
       "    }\n",
       "</style>\n",
       "<table border=\"1\" class=\"dataframe\">\n",
       "  <thead>\n",
       "    <tr style=\"text-align: right;\">\n",
       "      <th>categ</th>\n",
       "      <th>0.0</th>\n",
       "      <th>1.0</th>\n",
       "      <th>2.0</th>\n",
       "    </tr>\n",
       "    <tr>\n",
       "      <th>date_2</th>\n",
       "      <th></th>\n",
       "      <th></th>\n",
       "      <th></th>\n",
       "    </tr>\n",
       "  </thead>\n",
       "  <tbody>\n",
       "    <tr>\n",
       "      <th>2021-03-01</th>\n",
       "      <td>6270.306828</td>\n",
       "      <td>6811.53</td>\n",
       "      <td>3345.05</td>\n",
       "    </tr>\n",
       "    <tr>\n",
       "      <th>2021-03-02</th>\n",
       "      <td>6725.926828</td>\n",
       "      <td>5627.15</td>\n",
       "      <td>2995.04</td>\n",
       "    </tr>\n",
       "    <tr>\n",
       "      <th>2021-03-03</th>\n",
       "      <td>6112.060000</td>\n",
       "      <td>5691.41</td>\n",
       "      <td>2948.28</td>\n",
       "    </tr>\n",
       "    <tr>\n",
       "      <th>2021-03-04</th>\n",
       "      <td>5888.490000</td>\n",
       "      <td>6098.98</td>\n",
       "      <td>3059.62</td>\n",
       "    </tr>\n",
       "    <tr>\n",
       "      <th>2021-03-05</th>\n",
       "      <td>5969.990000</td>\n",
       "      <td>7071.21</td>\n",
       "      <td>4132.21</td>\n",
       "    </tr>\n",
       "  </tbody>\n",
       "</table>\n",
       "</div>"
      ],
      "text/plain": [
       "categ               0.0      1.0      2.0\n",
       "date_2                                   \n",
       "2021-03-01  6270.306828  6811.53  3345.05\n",
       "2021-03-02  6725.926828  5627.15  2995.04\n",
       "2021-03-03  6112.060000  5691.41  2948.28\n",
       "2021-03-04  5888.490000  6098.98  3059.62\n",
       "2021-03-05  5969.990000  7071.21  4132.21"
      ]
     },
     "execution_count": 20,
     "metadata": {},
     "output_type": "execute_result"
    }
   ],
   "source": [
    "# pivot table pour avoir le chiffre d'affaires journalier par catégories\n",
    "df = data.pivot_table(values='price', index= 'date_2', columns= 'categ', aggfunc=sum)\n",
    "df.head()"
   ]
  },
  {
   "cell_type": "code",
   "execution_count": 21,
   "id": "e9faeb03",
   "metadata": {},
   "outputs": [
    {
     "data": {
      "image/png": "[encoded data removed]",
      "text/plain": [
       "<Figure size 576x576 with 1 Axes>"
      ]
     },
     "metadata": {
      "needs_background": "light"
     },
     "output_type": "display_data"
    }
   ],
   "source": [
    "# réalisation d'un histogramme\n",
    "fig = plt.figure(figsize = (8, 8))\n",
    "ax= fig.add_subplot()\n",
    "ax.bar(df.index, df.iloc[:, 0].values, label = 'categ_0')\n",
    "ax.bar(df.index, df.iloc[:, 1].values, bottom = np.array(df.iloc[:, 0].values), label= 'categ_1')\n",
    "ax.bar(df.index, df.iloc[:, 2].values, bottom = (np.array(df.iloc[:, 1].values) + np.array(df.iloc[:, 0].values)), label= 'categ_2')\n",
    "plt.legend()\n",
    "plt.savefig(r'F:\\dataAnalyst\\Documentation projet\\graphs livrable p4\\histogramme_ca_day.jpg')\n",
    "plt.show()"
   ]
  },
  {
   "cell_type": "markdown",
   "id": "9e43f349",
   "metadata": {},
   "source": [
    "## Corrélation entre le sexe des clients et les catégories de produits achetés"
   ]
  },
  {
   "cell_type": "code",
   "execution_count": 22,
   "id": "85fe12c8",
   "metadata": {
    "scrolled": true
   },
   "outputs": [
    {
     "data": {
      "text/html": [
       "<div>\n",
       "<style scoped>\n",
       "    .dataframe tbody tr th:only-of-type {\n",
       "        vertical-align: middle;\n",
       "    }\n",
       "\n",
       "    .dataframe tbody tr th {\n",
       "        vertical-align: top;\n",
       "    }\n",
       "\n",
       "    .dataframe thead th {\n",
       "        text-align: right;\n",
       "    }\n",
       "</style>\n",
       "<table border=\"1\" class=\"dataframe\">\n",
       "  <thead>\n",
       "    <tr style=\"text-align: right;\">\n",
       "      <th>categ</th>\n",
       "      <th>0.0</th>\n",
       "      <th>1.0</th>\n",
       "      <th>2.0</th>\n",
       "      <th>total</th>\n",
       "    </tr>\n",
       "    <tr>\n",
       "      <th>sex</th>\n",
       "      <th></th>\n",
       "      <th></th>\n",
       "      <th></th>\n",
       "      <th></th>\n",
       "    </tr>\n",
       "  </thead>\n",
       "  <tbody>\n",
       "    <tr>\n",
       "      <th>f</th>\n",
       "      <td>103846</td>\n",
       "      <td>55469</td>\n",
       "      <td>8260</td>\n",
       "      <td>167575</td>\n",
       "    </tr>\n",
       "    <tr>\n",
       "      <th>m</th>\n",
       "      <td>105683</td>\n",
       "      <td>54266</td>\n",
       "      <td>9292</td>\n",
       "      <td>169241</td>\n",
       "    </tr>\n",
       "    <tr>\n",
       "      <th>total</th>\n",
       "      <td>209529</td>\n",
       "      <td>109735</td>\n",
       "      <td>17552</td>\n",
       "      <td>336816</td>\n",
       "    </tr>\n",
       "  </tbody>\n",
       "</table>\n",
       "</div>"
      ],
      "text/plain": [
       "categ     0.0     1.0    2.0   total\n",
       "sex                                 \n",
       "f      103846   55469   8260  167575\n",
       "m      105683   54266   9292  169241\n",
       "total  209529  109735  17552  336816"
      ]
     },
     "execution_count": 22,
     "metadata": {},
     "output_type": "execute_result"
    }
   ],
   "source": [
    "# représentation du tableau de contingence\n",
    "cont = data[['sex', 'categ']].pivot_table(index= 'sex', columns= 'categ', aggfunc=len, margins=True, margins_name= 'total')\n",
    "cont"
   ]
  },
  {
   "cell_type": "code",
   "execution_count": 23,
   "id": "7e6b852b",
   "metadata": {},
   "outputs": [
    {
     "data": {
      "image/png": "[encoded data removed]",
      "text/plain": [
       "<Figure size 720x504 with 2 Axes>"
      ]
     },
     "metadata": {
      "needs_background": "light"
     },
     "output_type": "display_data"
    }
   ],
   "source": [
    "# tableau de contingence entre sexe et catégories\n",
    "tx = cont.loc[:, ['total']]\n",
    "ty = cont.loc[['total'], :]\n",
    "n = len(data)\n",
    "indep = tx.dot(ty) / n\n",
    "\n",
    "c = cont.fillna(0)\n",
    "measure = (c - indep)**2 / indep\n",
    "xi_n = measure.sum().sum()\n",
    "table = measure / xi_n\n",
    "plt.figure(figsize = (10,7))\n",
    "sns.heatmap(table.iloc[:-1, :-1], annot=True)\n",
    "plt.title('Il n\\'y a pas de corrélation entre le sexe des clients et les catégories de produits')\n",
    "plt.savefig(r'F:\\dataAnalyst\\Documentation projet\\graphs livrable p4\\tableau_contigence.jpg')\n",
    "plt.close(fig)\n",
    "plt.show()"
   ]
  },
  {
   "cell_type": "code",
   "execution_count": 24,
   "id": "dabba458",
   "metadata": {},
   "outputs": [],
   "source": [
    "# calcul du Chi-2\n",
    "from scipy.stats import chi2_contingency\n",
    "st_chi2, st_p, st_dof, st_exp = chi2_contingency(cont)"
   ]
  },
  {
   "cell_type": "code",
   "execution_count": 25,
   "id": "05d0b6fc",
   "metadata": {},
   "outputs": [
    {
     "data": {
      "text/plain": [
       "81.73335807676145"
      ]
     },
     "execution_count": 25,
     "metadata": {},
     "output_type": "execute_result"
    }
   ],
   "source": [
    "st_chi2"
   ]
  },
  {
   "cell_type": "code",
   "execution_count": 26,
   "id": "f6428641",
   "metadata": {},
   "outputs": [
    {
     "data": {
      "text/plain": [
       "1.5659631165658027e-15"
      ]
     },
     "execution_count": 26,
     "metadata": {},
     "output_type": "execute_result"
    }
   ],
   "source": [
    "st_p"
   ]
  },
  {
   "cell_type": "markdown",
   "id": "50a87d0b",
   "metadata": {},
   "source": [
    "## Corrélation entre âge des clients et montant total des achats"
   ]
  },
  {
   "cell_type": "code",
   "execution_count": 27,
   "id": "aa6d20ff",
   "metadata": {},
   "outputs": [
    {
     "data": {
      "text/html": [
       "<div>\n",
       "<style scoped>\n",
       "    .dataframe tbody tr th:only-of-type {\n",
       "        vertical-align: middle;\n",
       "    }\n",
       "\n",
       "    .dataframe tbody tr th {\n",
       "        vertical-align: top;\n",
       "    }\n",
       "\n",
       "    .dataframe thead th {\n",
       "        text-align: right;\n",
       "    }\n",
       "</style>\n",
       "<table border=\"1\" class=\"dataframe\">\n",
       "  <thead>\n",
       "    <tr style=\"text-align: right;\">\n",
       "      <th></th>\n",
       "      <th>client_id</th>\n",
       "      <th>age</th>\n",
       "      <th>price</th>\n",
       "      <th>categ</th>\n",
       "      <th>birth</th>\n",
       "    </tr>\n",
       "  </thead>\n",
       "  <tbody>\n",
       "    <tr>\n",
       "      <th>0</th>\n",
       "      <td>c_1</td>\n",
       "      <td>67</td>\n",
       "      <td>300.65</td>\n",
       "      <td>6.0</td>\n",
       "      <td>39100</td>\n",
       "    </tr>\n",
       "    <tr>\n",
       "      <th>1</th>\n",
       "      <td>c_10</td>\n",
       "      <td>66</td>\n",
       "      <td>586.18</td>\n",
       "      <td>19.0</td>\n",
       "      <td>54768</td>\n",
       "    </tr>\n",
       "    <tr>\n",
       "      <th>2</th>\n",
       "      <td>c_100</td>\n",
       "      <td>30</td>\n",
       "      <td>222.87</td>\n",
       "      <td>5.0</td>\n",
       "      <td>11952</td>\n",
       "    </tr>\n",
       "    <tr>\n",
       "      <th>3</th>\n",
       "      <td>c_1000</td>\n",
       "      <td>56</td>\n",
       "      <td>980.02</td>\n",
       "      <td>36.0</td>\n",
       "      <td>110096</td>\n",
       "    </tr>\n",
       "    <tr>\n",
       "      <th>4</th>\n",
       "      <td>c_1001</td>\n",
       "      <td>40</td>\n",
       "      <td>1102.45</td>\n",
       "      <td>16.0</td>\n",
       "      <td>114956</td>\n",
       "    </tr>\n",
       "  </tbody>\n",
       "</table>\n",
       "</div>"
      ],
      "text/plain": [
       "  client_id  age    price  categ   birth\n",
       "0       c_1   67   300.65    6.0   39100\n",
       "1      c_10   66   586.18   19.0   54768\n",
       "2     c_100   30   222.87    5.0   11952\n",
       "3    c_1000   56   980.02   36.0  110096\n",
       "4    c_1001   40  1102.45   16.0  114956"
      ]
     },
     "execution_count": 27,
     "metadata": {},
     "output_type": "execute_result"
    }
   ],
   "source": [
    "df_age = data\n",
    "df_age = df_age.groupby(by=['client_id', 'age']).sum()\n",
    "df_age = df_age.reset_index()\n",
    "df_age.head()"
   ]
  },
  {
   "cell_type": "code",
   "execution_count": 28,
   "id": "d157dbab",
   "metadata": {},
   "outputs": [
    {
     "data": {
      "text/plain": [
       "0       67\n",
       "1       66\n",
       "2       30\n",
       "3       56\n",
       "4       40\n",
       "        ..\n",
       "8595    67\n",
       "8596    52\n",
       "8597    28\n",
       "8598    21\n",
       "8599    58\n",
       "Name: age, Length: 8600, dtype: int64"
      ]
     },
     "execution_count": 28,
     "metadata": {},
     "output_type": "execute_result"
    }
   ],
   "source": [
    "pd.to_numeric(df_age['age'], errors='coerce')"
   ]
  },
  {
   "cell_type": "code",
   "execution_count": 29,
   "id": "9e8ac704",
   "metadata": {},
   "outputs": [
    {
     "name": "stdout",
     "output_type": "stream",
     "text": [
      "coefficient de pearson : -0.039305922635455126\n",
      "indice de covariation : -1705.193759265392\n",
      "r-squared :  0.0015449555542243836\n"
     ]
    }
   ],
   "source": [
    "x = df_age['age']\n",
    "y = df_age['price']\n",
    "\n",
    "print('coefficient de pearson :', st.pearsonr(x, y)[0])\n",
    "print('indice de covariation :', np.cov(x, y, ddof=0)[1,0])\n",
    "\n",
    "Y = df_age['price']\n",
    "X = df_age[['age']]\n",
    "X = X.copy()\n",
    "X['intercept'] = 1.\n",
    "result = sm.OLS(Y, X).fit()\n",
    "a,b = result.params['age'],result.params['intercept']\n",
    "print('r-squared : ', (st.pearsonr(x,y)[0])**2)"
   ]
  },
  {
   "cell_type": "markdown",
   "id": "b5fab8b0",
   "metadata": {},
   "source": [
    "## Corrélation entre l'âge des clients et la fréquence d’achat"
   ]
  },
  {
   "cell_type": "code",
   "execution_count": 30,
   "id": "c65d4fda",
   "metadata": {},
   "outputs": [
    {
     "data": {
      "text/html": [
       "<div>\n",
       "<style scoped>\n",
       "    .dataframe tbody tr th:only-of-type {\n",
       "        vertical-align: middle;\n",
       "    }\n",
       "\n",
       "    .dataframe tbody tr th {\n",
       "        vertical-align: top;\n",
       "    }\n",
       "\n",
       "    .dataframe thead th {\n",
       "        text-align: right;\n",
       "    }\n",
       "</style>\n",
       "<table border=\"1\" class=\"dataframe\">\n",
       "  <thead>\n",
       "    <tr style=\"text-align: right;\">\n",
       "      <th></th>\n",
       "      <th>mois</th>\n",
       "      <th>age</th>\n",
       "      <th>nb_achat</th>\n",
       "      <th>freq_achat</th>\n",
       "    </tr>\n",
       "  </thead>\n",
       "  <tbody>\n",
       "    <tr>\n",
       "      <th>99862</th>\n",
       "      <td>2021-03-01</td>\n",
       "      <td>18</td>\n",
       "      <td>2</td>\n",
       "      <td>0.000006</td>\n",
       "    </tr>\n",
       "    <tr>\n",
       "      <th>99863</th>\n",
       "      <td>2021-03-01</td>\n",
       "      <td>18</td>\n",
       "      <td>1</td>\n",
       "      <td>0.000003</td>\n",
       "    </tr>\n",
       "    <tr>\n",
       "      <th>99864</th>\n",
       "      <td>2021-03-01</td>\n",
       "      <td>18</td>\n",
       "      <td>6</td>\n",
       "      <td>0.000018</td>\n",
       "    </tr>\n",
       "    <tr>\n",
       "      <th>99865</th>\n",
       "      <td>2021-03-01</td>\n",
       "      <td>18</td>\n",
       "      <td>1</td>\n",
       "      <td>0.000003</td>\n",
       "    </tr>\n",
       "    <tr>\n",
       "      <th>99866</th>\n",
       "      <td>2021-03-01</td>\n",
       "      <td>18</td>\n",
       "      <td>2</td>\n",
       "      <td>0.000006</td>\n",
       "    </tr>\n",
       "  </tbody>\n",
       "</table>\n",
       "</div>"
      ],
      "text/plain": [
       "            mois  age  nb_achat  freq_achat\n",
       "99862 2021-03-01   18         2    0.000006\n",
       "99863 2021-03-01   18         1    0.000003\n",
       "99864 2021-03-01   18         6    0.000018\n",
       "99865 2021-03-01   18         1    0.000003\n",
       "99866 2021-03-01   18         2    0.000006"
      ]
     },
     "execution_count": 30,
     "metadata": {},
     "output_type": "execute_result"
    }
   ],
   "source": [
    "freq = data\n",
    "freq['nb_achat'] = 1\n",
    "freq = freq.groupby(['mois', 'age', 'session_id']).sum().reset_index()\n",
    "freq['mois'] = pd.to_datetime(freq['mois']) \n",
    "freq = freq[['mois', 'age', 'nb_achat']]\n",
    "freq = freq.sort_values(['mois', 'age'])\n",
    "freq['freq_achat'] = freq['nb_achat']/freq['nb_achat'].sum()\n",
    "freq.head()"
   ]
  },
  {
   "cell_type": "code",
   "execution_count": 31,
   "id": "1b985a65",
   "metadata": {},
   "outputs": [
    {
     "data": {
      "image/png": "[encoded data removed]",
      "text/plain": [
       "<Figure size 432x288 with 1 Axes>"
      ]
     },
     "metadata": {
      "needs_background": "light"
     },
     "output_type": "display_data"
    }
   ],
   "source": [
    "sns.set_context('notebook')\n",
    "sns.set_palette('Set1')\n",
    "\n",
    "plt.plot(figsize = (10,7))\n",
    "plt.plot(freq['age'], freq['freq_achat'], \"s\", color='k')\n",
    "plt.plot(np.arange(90),[a*x+b for x in np.arange(90)], color='r')\n",
    "plt.xlabel(\"Age des clients\")\n",
    "plt.ylabel(\"Fréquences d'achats\")\n",
    "plt.title('Fréquence d\\'achats mensuels en fonction de l\\'âge')\n",
    "plt.savefig(r'F:\\dataAnalyst\\Documentation projet\\graphs livrable p4\\freq_achat_age.jpg')\n",
    "plt.show()"
   ]
  },
  {
   "cell_type": "code",
   "execution_count": 32,
   "id": "37bab36a",
   "metadata": {},
   "outputs": [
    {
     "name": "stdout",
     "output_type": "stream",
     "text": [
      "coefficient de pearson : -0.17751126291511288\n",
      "indice de covariation : -9.987850186922119e-06\n",
      "r-squared :  0.03151024846171833\n"
     ]
    }
   ],
   "source": [
    "x = freq['age']\n",
    "y = freq['freq_achat']\n",
    "\n",
    "print('coefficient de pearson :', st.pearsonr(x, y)[0])\n",
    "print('indice de covariation :', np.cov(x, y, ddof=0)[1,0])\n",
    "\n",
    "Y = freq['freq_achat']\n",
    "X = freq[['age']]\n",
    "X = X.copy()\n",
    "X['intercept'] = 1.\n",
    "result = sm.OLS(Y, X).fit()\n",
    "a,b = result.params['age'],result.params['intercept']\n",
    "\n",
    "print('r-squared : ', (st.pearsonr(x, y)[0])**2)"
   ]
  },
  {
   "cell_type": "markdown",
   "id": "ed88a727",
   "metadata": {},
   "source": [
    "## Corrélation entre l'âge des clients et la taille du panier moyen (en nombre d'articles)"
   ]
  },
  {
   "cell_type": "code",
   "execution_count": 33,
   "id": "9eae3022",
   "metadata": {
    "scrolled": false
   },
   "outputs": [
    {
     "data": {
      "text/html": [
       "<div>\n",
       "<style scoped>\n",
       "    .dataframe tbody tr th:only-of-type {\n",
       "        vertical-align: middle;\n",
       "    }\n",
       "\n",
       "    .dataframe tbody tr th {\n",
       "        vertical-align: top;\n",
       "    }\n",
       "\n",
       "    .dataframe thead th {\n",
       "        text-align: right;\n",
       "    }\n",
       "</style>\n",
       "<table border=\"1\" class=\"dataframe\">\n",
       "  <thead>\n",
       "    <tr style=\"text-align: right;\">\n",
       "      <th></th>\n",
       "      <th>id_prod</th>\n",
       "    </tr>\n",
       "    <tr>\n",
       "      <th>client_id</th>\n",
       "      <th></th>\n",
       "    </tr>\n",
       "  </thead>\n",
       "  <tbody>\n",
       "    <tr>\n",
       "      <th>c_1</th>\n",
       "      <td>1.333333</td>\n",
       "    </tr>\n",
       "    <tr>\n",
       "      <th>c_10</th>\n",
       "      <td>1.750000</td>\n",
       "    </tr>\n",
       "    <tr>\n",
       "      <th>c_100</th>\n",
       "      <td>2.000000</td>\n",
       "    </tr>\n",
       "    <tr>\n",
       "      <th>c_1000</th>\n",
       "      <td>1.333333</td>\n",
       "    </tr>\n",
       "    <tr>\n",
       "      <th>c_1001</th>\n",
       "      <td>2.416667</td>\n",
       "    </tr>\n",
       "  </tbody>\n",
       "</table>\n",
       "</div>"
      ],
      "text/plain": [
       "            id_prod\n",
       "client_id          \n",
       "c_1        1.333333\n",
       "c_10       1.750000\n",
       "c_100      2.000000\n",
       "c_1000     1.333333\n",
       "c_1001     2.416667"
      ]
     },
     "execution_count": 33,
     "metadata": {},
     "output_type": "execute_result"
    }
   ],
   "source": [
    "pan = data.pivot_table(values= 'id_prod', index= ['client_id', 'session_id'], aggfunc= 'count').reset_index()\n",
    "pan_x1 = pan[['client_id', 'id_prod']].groupby('client_id').mean()\n",
    "pan_x1.head()"
   ]
  },
  {
   "cell_type": "code",
   "execution_count": 34,
   "id": "c379a453",
   "metadata": {
    "scrolled": false
   },
   "outputs": [
    {
     "data": {
      "text/html": [
       "<div>\n",
       "<style scoped>\n",
       "    .dataframe tbody tr th:only-of-type {\n",
       "        vertical-align: middle;\n",
       "    }\n",
       "\n",
       "    .dataframe tbody tr th {\n",
       "        vertical-align: top;\n",
       "    }\n",
       "\n",
       "    .dataframe thead th {\n",
       "        text-align: right;\n",
       "    }\n",
       "</style>\n",
       "<table border=\"1\" class=\"dataframe\">\n",
       "  <thead>\n",
       "    <tr style=\"text-align: right;\">\n",
       "      <th></th>\n",
       "      <th>tranche</th>\n",
       "      <th>client_id</th>\n",
       "    </tr>\n",
       "  </thead>\n",
       "  <tbody>\n",
       "    <tr>\n",
       "      <th>0</th>\n",
       "      <td>46-59</td>\n",
       "      <td>c_4410</td>\n",
       "    </tr>\n",
       "    <tr>\n",
       "      <th>36</th>\n",
       "      <td>46-59</td>\n",
       "      <td>c_7839</td>\n",
       "    </tr>\n",
       "    <tr>\n",
       "      <th>54</th>\n",
       "      <td>30-45</td>\n",
       "      <td>c_1699</td>\n",
       "    </tr>\n",
       "    <tr>\n",
       "      <th>62</th>\n",
       "      <td>60+</td>\n",
       "      <td>c_5961</td>\n",
       "    </tr>\n",
       "    <tr>\n",
       "      <th>97</th>\n",
       "      <td>60+</td>\n",
       "      <td>c_5320</td>\n",
       "    </tr>\n",
       "  </tbody>\n",
       "</table>\n",
       "</div>"
      ],
      "text/plain": [
       "   tranche client_id\n",
       "0    46-59    c_4410\n",
       "36   46-59    c_7839\n",
       "54   30-45    c_1699\n",
       "62     60+    c_5961\n",
       "97     60+    c_5320"
      ]
     },
     "execution_count": 34,
     "metadata": {},
     "output_type": "execute_result"
    }
   ],
   "source": [
    "pan_x2 = data[['tranche', 'client_id']]\n",
    "pan_x2 = pan_x2.drop_duplicates()\n",
    "pan_x2.head()"
   ]
  },
  {
   "cell_type": "code",
   "execution_count": 35,
   "id": "6afd9988",
   "metadata": {},
   "outputs": [],
   "source": [
    "pan_mean = pd.merge(pan_x1, pan_x2, on='client_id')"
   ]
  },
  {
   "cell_type": "code",
   "execution_count": 36,
   "id": "5332d3a3",
   "metadata": {},
   "outputs": [
    {
     "data": {
      "text/html": [
       "<div>\n",
       "<style scoped>\n",
       "    .dataframe tbody tr th:only-of-type {\n",
       "        vertical-align: middle;\n",
       "    }\n",
       "\n",
       "    .dataframe tbody tr th {\n",
       "        vertical-align: top;\n",
       "    }\n",
       "\n",
       "    .dataframe thead th {\n",
       "        text-align: right;\n",
       "    }\n",
       "</style>\n",
       "<table border=\"1\" class=\"dataframe\">\n",
       "  <thead>\n",
       "    <tr style=\"text-align: right;\">\n",
       "      <th></th>\n",
       "      <th>client_id</th>\n",
       "      <th>id_prod</th>\n",
       "      <th>tranche</th>\n",
       "    </tr>\n",
       "  </thead>\n",
       "  <tbody>\n",
       "    <tr>\n",
       "      <th>0</th>\n",
       "      <td>c_1</td>\n",
       "      <td>1.333333</td>\n",
       "      <td>60+</td>\n",
       "    </tr>\n",
       "    <tr>\n",
       "      <th>1</th>\n",
       "      <td>c_10</td>\n",
       "      <td>1.750000</td>\n",
       "      <td>60+</td>\n",
       "    </tr>\n",
       "    <tr>\n",
       "      <th>2</th>\n",
       "      <td>c_100</td>\n",
       "      <td>2.000000</td>\n",
       "      <td>30-45</td>\n",
       "    </tr>\n",
       "    <tr>\n",
       "      <th>3</th>\n",
       "      <td>c_1000</td>\n",
       "      <td>1.333333</td>\n",
       "      <td>46-59</td>\n",
       "    </tr>\n",
       "    <tr>\n",
       "      <th>4</th>\n",
       "      <td>c_1001</td>\n",
       "      <td>2.416667</td>\n",
       "      <td>30-45</td>\n",
       "    </tr>\n",
       "    <tr>\n",
       "      <th>...</th>\n",
       "      <td>...</td>\n",
       "      <td>...</td>\n",
       "      <td>...</td>\n",
       "    </tr>\n",
       "    <tr>\n",
       "      <th>8595</th>\n",
       "      <td>c_995</td>\n",
       "      <td>1.600000</td>\n",
       "      <td>60+</td>\n",
       "    </tr>\n",
       "    <tr>\n",
       "      <th>8596</th>\n",
       "      <td>c_996</td>\n",
       "      <td>1.166667</td>\n",
       "      <td>46-59</td>\n",
       "    </tr>\n",
       "    <tr>\n",
       "      <th>8597</th>\n",
       "      <td>c_997</td>\n",
       "      <td>2.300000</td>\n",
       "      <td>18-29</td>\n",
       "    </tr>\n",
       "    <tr>\n",
       "      <th>8598</th>\n",
       "      <td>c_998</td>\n",
       "      <td>2.153846</td>\n",
       "      <td>18-29</td>\n",
       "    </tr>\n",
       "    <tr>\n",
       "      <th>8599</th>\n",
       "      <td>c_999</td>\n",
       "      <td>1.047619</td>\n",
       "      <td>46-59</td>\n",
       "    </tr>\n",
       "  </tbody>\n",
       "</table>\n",
       "<p>8600 rows × 3 columns</p>\n",
       "</div>"
      ],
      "text/plain": [
       "     client_id   id_prod tranche\n",
       "0          c_1  1.333333     60+\n",
       "1         c_10  1.750000     60+\n",
       "2        c_100  2.000000   30-45\n",
       "3       c_1000  1.333333   46-59\n",
       "4       c_1001  2.416667   30-45\n",
       "...        ...       ...     ...\n",
       "8595     c_995  1.600000     60+\n",
       "8596     c_996  1.166667   46-59\n",
       "8597     c_997  2.300000   18-29\n",
       "8598     c_998  2.153846   18-29\n",
       "8599     c_999  1.047619   46-59\n",
       "\n",
       "[8600 rows x 3 columns]"
      ]
     },
     "execution_count": 36,
     "metadata": {},
     "output_type": "execute_result"
    }
   ],
   "source": [
    "pan_mean"
   ]
  },
  {
   "cell_type": "code",
   "execution_count": 37,
   "id": "556c3938",
   "metadata": {},
   "outputs": [
    {
     "data": {
      "image/png": "[encoded data removed]",
      "text/plain": [
       "<Figure size 720x504 with 1 Axes>"
      ]
     },
     "metadata": {
      "needs_background": "light"
     },
     "output_type": "display_data"
    }
   ],
   "source": [
    "X = \"tranche\" # qualitative\n",
    "Y = \"id_prod\" # quantitative\n",
    "\n",
    "modalites = pan_mean[X].unique()\n",
    "groupes = []\n",
    "for m in modalites:\n",
    "    groupes.append(pan_mean[pan_mean[X]==m][Y])\n",
    "\n",
    "# Propriétés graphiques (pas très importantes)    \n",
    "medianprops = {'color':\"black\"}\n",
    "meanprops = {'marker':'o', 'markeredgecolor':'black',\n",
    "            'markerfacecolor':'firebrick'}\n",
    " \n",
    "plt.figure(figsize= (10, 7))\n",
    "plt.boxplot(groupes, labels=modalites, showfliers=False, medianprops=medianprops, \n",
    "            vert=False, patch_artist=True, showmeans=True, meanprops=meanprops)\n",
    "plt.xlabel('nombre d\\'articles')\n",
    "plt.ylabel('tranche d\\'âge')\n",
    "plt.title('nombre d\\'articles moyen selon les tranches d\\'age')\n",
    "plt.savefig(r'F:\\dataAnalyst\\Documentation projet\\graphs livrable p4\\nbre_articles_tranche_age.jpg')\n",
    "plt.show()"
   ]
  },
  {
   "cell_type": "code",
   "execution_count": 38,
   "id": "72a0f136",
   "metadata": {},
   "outputs": [
    {
     "name": "stdout",
     "output_type": "stream",
     "text": [
      "eta-squared : 0.24099178069516888\n"
     ]
    }
   ],
   "source": [
    "X = pan_mean['tranche']\n",
    "Y = pan_mean['id_prod']\n",
    "\n",
    "def eta_squared(x,y):\n",
    "    moyenne_y = y.mean()\n",
    "    classes = []\n",
    "    for classe in x.unique():\n",
    "        yi_classe = y[x==classe]\n",
    "        classes.append({'ni': len(yi_classe),\n",
    "                        'moyenne_classe': yi_classe.mean()})\n",
    "    SCT = sum([(yj-moyenne_y)**2 for yj in y])\n",
    "    SCE = sum([c['ni']*(c['moyenne_classe']-moyenne_y)**2 for c in classes])\n",
    "    return SCE/SCT\n",
    "    \n",
    "print('eta-squared :', eta_squared(X,Y))"
   ]
  },
  {
   "cell_type": "markdown",
   "id": "c1773436",
   "metadata": {},
   "source": [
    "## Corrélation entre l'âge des clients et Les catégories de produits achetés"
   ]
  },
  {
   "cell_type": "code",
   "execution_count": 39,
   "id": "5a5aad4a",
   "metadata": {},
   "outputs": [
    {
     "data": {
      "image/png": "[encoded data removed]",
      "text/plain": [
       "<Figure size 720x720 with 1 Axes>"
      ]
     },
     "metadata": {
      "needs_background": "light"
     },
     "output_type": "display_data"
    }
   ],
   "source": [
    "sns.set_context('talk')\n",
    "sns.set_palette('Set2')\n",
    "plt.figure(figsize=[10,10])\n",
    "\n",
    "sns.boxplot(x='categ', y='age', data=data, showfliers=False)\n",
    "plt.ylabel('Age des clients')\n",
    "plt.title('repartition de l\\'âge selon les catégories')\n",
    "plt.savefig(r'F:\\dataAnalyst\\Documentation projet\\graphs livrable p4\\repart_age_categ.jpg')\n",
    "plt.show()"
   ]
  },
  {
   "cell_type": "code",
   "execution_count": 40,
   "id": "c9a5e71f",
   "metadata": {},
   "outputs": [
    {
     "name": "stdout",
     "output_type": "stream",
     "text": [
      "eta-squared : 0.1188402922818535\n"
     ]
    }
   ],
   "source": [
    "X = data['categ']\n",
    "Y = data['age']\n",
    "\n",
    "def eta_squared(x,y):\n",
    "    moyenne_y = y.mean()\n",
    "    classes = []\n",
    "    for classe in x.unique():\n",
    "        yi_classe = y[x==classe]\n",
    "        classes.append({'ni': len(yi_classe),\n",
    "                        'moyenne_classe': yi_classe.mean()})\n",
    "    SCT = sum([(yj-moyenne_y)**2 for yj in y])\n",
    "    SCE = sum([c['ni']*(c['moyenne_classe']-moyenne_y)**2 for c in classes])\n",
    "    return SCE/SCT\n",
    "    \n",
    "print('eta-squared :', eta_squared(X,Y))"
   ]
  }
 ],
 "metadata": {
  "kernelspec": {
   "display_name": "Python 3 (ipykernel)",
   "language": "python",
   "name": "python3"
  },
  "language_info": {
   "codemirror_mode": {
    "name": "ipython",
    "version": 3
   },
   "file_extension": ".py",
   "mimetype": "text/x-python",
   "name": "python",
   "nbconvert_exporter": "python",
   "pygments_lexer": "ipython3",
   "version": "3.9.7"
  }
 },
 "nbformat": 4,
 "nbformat_minor": 5
}
